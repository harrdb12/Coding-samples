{
 "cells": [
  {
   "cell_type": "code",
   "execution_count": 2,
   "metadata": {},
   "outputs": [],
   "source": [
    "import numpy as np\n",
    "import itertools"
   ]
  },
  {
   "cell_type": "code",
   "execution_count": 3,
   "metadata": {},
   "outputs": [],
   "source": [
    "mat = np.matrix([[1,0,0,1],[1,0,3,0],[2,0,0,3],[1,1,1,1],[3,2,0,0],[0,2,2,0]])"
   ]
  },
  {
   "cell_type": "code",
   "execution_count": 4,
   "metadata": {},
   "outputs": [],
   "source": [
    "mat = np.matrix([[1,0,0,1],[1,0,3,0],[2,3,0,3],[1,1,1,1],[3,2,0,0],[0,2,2,0]])"
   ]
  },
  {
   "cell_type": "code",
   "execution_count": 5,
   "metadata": {},
   "outputs": [],
   "source": [
    "mat = mat.transpose()"
   ]
  },
  {
   "cell_type": "code",
   "execution_count": 6,
   "metadata": {},
   "outputs": [],
   "source": [
    "rhs = np.matrix([[4,4,4,4],[2,4,1,3],[1,2,3,4],[3,1,4,2],[3,5,1,3],[5,4,3,2]])"
   ]
  },
  {
   "cell_type": "code",
   "execution_count": 7,
   "metadata": {},
   "outputs": [
    {
     "name": "stdout",
     "output_type": "stream",
     "text": [
      "For tile  [[4 4 4 4]]\n",
      "Trying upgrade  1\n",
      "(0, 1, 1, 1, 0, 0) 16 3\n",
      "Trying upgrade  2\n",
      "(0, 1, 1, 1, 0, 0) 16 3\n",
      "Trying upgrade  3\n",
      "(0, 1, 1, 1, 0, 0) 16 3\n",
      "(1, 0, 1, 1, 0, 0) 14 3\n",
      "(0, 0, 1, 1, 1, 0) 17 3\n",
      "Trying upgrade  4\n",
      "(0, 1, 1, 1, 0, 0) 16 3\n",
      "No upgrade\n",
      "(0, 1, 1, 1, 0, 0) 16 3\n",
      "\n",
      "For tile  [[2 4 1 3]]\n",
      "Trying upgrade  1\n",
      "(0, 0, 1, 1, 0, 0) 12 2\n",
      "(0, 0, 1, 0, 0, 1) 12 2\n",
      "Trying upgrade  2\n",
      "(0, 0, 1, 1, 0, 0) 12 2\n",
      "(0, 1, 1, 0, 0, 0) 12 2\n",
      "(0, 0, 1, 0, 0, 1) 12 2\n",
      "Trying upgrade  3\n",
      "(0, 0, 1, 1, 0, 0) 12 2\n",
      "(0, 0, 1, 0, 1, 0) 13 2\n",
      "(0, 0, 1, 0, 0, 1) 12 2\n",
      "Trying upgrade  4\n",
      "(0, 0, 1, 1, 0, 0) 12 2\n",
      "(0, 0, 1, 0, 0, 1) 12 2\n",
      "(0, 0, 0, 0, 1, 1) 9 2\n",
      "No upgrade\n",
      "(0, 0, 1, 1, 0, 0) 12 2\n",
      "(0, 0, 1, 0, 0, 1) 12 2\n",
      "\n",
      "For tile  [[1 2 3 4]]\n",
      "Trying upgrade  1\n",
      "(0, 1, 1, 1, 0, 0) 16 3\n",
      "(0, 0, 1, 1, 0, 1) 16 3\n",
      "(1, 1, 1, 0, 0, 0) 14 3\n",
      "Trying upgrade  2\n",
      "(0, 1, 1, 1, 0, 0) 16 3\n",
      "(0, 0, 1, 1, 0, 1) 16 3\n",
      "(1, 1, 1, 0, 0, 0) 14 3\n",
      "Trying upgrade  3\n",
      "(0, 0, 1, 1, 0, 0) 12 2\n",
      "(1, 0, 1, 0, 0, 0) 10 2\n",
      "Trying upgrade  4\n",
      "(0, 1, 1, 0, 0, 0) 12 2\n",
      "(0, 0, 0, 1, 0, 1) 8 2\n",
      "No upgrade\n",
      "(0, 1, 1, 1, 0, 0) 16 3\n",
      "(0, 0, 1, 1, 0, 1) 16 3\n",
      "(1, 1, 1, 0, 0, 0) 14 3\n",
      "\n",
      "For tile  [[3 1 4 2]]\n",
      "Trying upgrade  1\n",
      "(0, 1, 1, 1, 0, 0) 16 3\n",
      "(0, 1, 1, 0, 0, 1) 16 3\n",
      "(1, 1, 0, 1, 0, 0) 10 3\n",
      "Trying upgrade  2\n",
      "(0, 1, 1, 1, 0, 0) 16 3\n",
      "(0, 1, 1, 0, 0, 1) 16 3\n",
      "(1, 1, 0, 1, 0, 0) 10 3\n",
      "Trying upgrade  3\n",
      "(0, 0, 1, 1, 0, 0) 12 2\n",
      "(0, 1, 1, 0, 0, 0) 12 2\n",
      "Trying upgrade  4\n",
      "(0, 1, 0, 1, 1, 0) 13 3\n",
      "(0, 1, 1, 1, 0, 0) 16 3\n",
      "(0, 1, 1, 0, 0, 1) 16 3\n",
      "(0, 1, 0, 0, 1, 1) 13 3\n",
      "(1, 1, 0, 1, 0, 0) 10 3\n",
      "No upgrade\n",
      "(0, 1, 1, 1, 0, 0) 16 3\n",
      "(0, 1, 1, 0, 0, 1) 16 3\n",
      "(1, 1, 0, 1, 0, 0) 10 3\n",
      "\n",
      "For tile  [[3 5 1 3]]\n",
      "Trying upgrade  1\n",
      "(0, 0, 1, 0, 0, 1) 12 2\n",
      "Trying upgrade  2\n",
      "(0, 0, 1, 1, 0, 0) 12 2\n",
      "(0, 1, 1, 0, 0, 0) 12 2\n",
      "Trying upgrade  3\n",
      "(0, 0, 1, 0, 1, 0) 13 2\n",
      "Trying upgrade  4\n",
      "(0, 0, 1, 0, 1, 1) 17 3\n",
      "(0, 1, 1, 0, 0, 1) 16 3\n",
      "(0, 1, 1, 0, 1, 0) 17 3\n",
      "(0, 0, 1, 1, 0, 1) 16 3\n",
      "(1, 0, 1, 0, 0, 1) 14 3\n",
      "(0, 0, 1, 1, 1, 0) 17 3\n",
      "(0, 0, 0, 1, 1, 1) 13 3\n",
      "No upgrade\n",
      "(0, 0, 1, 0, 1, 1) 17 3\n",
      "(0, 1, 1, 0, 0, 1) 16 3\n",
      "(0, 1, 1, 0, 1, 0) 17 3\n",
      "(0, 0, 1, 1, 0, 1) 16 3\n",
      "(1, 0, 1, 0, 0, 1) 14 3\n",
      "(0, 0, 1, 1, 1, 0) 17 3\n",
      "\n",
      "For tile  [[5 4 3 2]]\n",
      "Trying upgrade  1\n",
      "(0, 1, 1, 1, 0, 0) 16 3\n",
      "(0, 1, 1, 0, 0, 1) 16 3\n",
      "(0, 1, 1, 0, 1, 0) 17 3\n",
      "(0, 0, 1, 1, 0, 1) 16 3\n",
      "Trying upgrade  2\n",
      "(0, 1, 1, 0, 1, 0) 17 3\n",
      "Trying upgrade  3\n",
      "(0, 0, 1, 0, 1, 0) 13 2\n",
      "Trying upgrade  4\n",
      "(0, 1, 1, 0, 1, 0) 17 3\n",
      "No upgrade\n",
      "(0, 1, 1, 0, 1, 0) 17 3\n",
      "\n"
     ]
    }
   ],
   "source": [
    "for k in range(len(rhs)):\n",
    "    print(\"For tile \", rhs[k])\n",
    "    for idx in range(5):\n",
    "        c = 0\n",
    "        temp = rhs[k].copy()\n",
    "        try:\n",
    "            temp.itemset(idx,temp.item(idx)-3)\n",
    "            print(\"Trying upgrade \", idx+1)\n",
    "        except:\n",
    "            print(\"No upgrade\")\n",
    "        for i in range(mat.shape[1]):\n",
    "            a = list(set(itertools.permutations((np.concatenate((np.ones(i+1),\n",
    "                                          np.zeros(mat.shape[1]-i-1))).astype(int)))))\n",
    "            for j in a:\n",
    "                b = np.matmul(mat,j)\n",
    "                if (b >= temp).sum() == temp.size:\n",
    "                    c = 1\n",
    "                    print(j,b.sum(),sum(list(j)))\n",
    "            if c == 1:\n",
    "                break\n",
    "    print()"
   ]
  },
  {
   "cell_type": "code",
   "execution_count": 40,
   "metadata": {},
   "outputs": [],
   "source": [
    "temp = rhs[0].copy()"
   ]
  },
  {
   "cell_type": "code",
   "execution_count": 67,
   "metadata": {},
   "outputs": [
    {
     "data": {
      "text/plain": [
       "matrix([[4, 4, 4, 4],\n",
       "        [3, 5, 1, 3],\n",
       "        [5, 4, 3, 2],\n",
       "        [2, 4, 1, 3],\n",
       "        [4, 3, 2, 1],\n",
       "        [2, 3, 1, 2]])"
      ]
     },
     "execution_count": 67,
     "metadata": {},
     "output_type": "execute_result"
    }
   ],
   "source": [
    "Upgrade 2,0,0,3 master with 2nd university upgrade"
   ]
  }
 ],
 "metadata": {
  "kernelspec": {
   "display_name": "Python 3",
   "language": "python",
   "name": "python3"
  },
  "language_info": {
   "codemirror_mode": {
    "name": "ipython",
    "version": 3
   },
   "file_extension": ".py",
   "mimetype": "text/x-python",
   "name": "python",
   "nbconvert_exporter": "python",
   "pygments_lexer": "ipython3",
   "version": "3.7.4"
  }
 },
 "nbformat": 4,
 "nbformat_minor": 2
}
