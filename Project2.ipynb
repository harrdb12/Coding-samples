{
 "cells": [
  {
   "cell_type": "code",
   "execution_count": 2,
   "metadata": {
    "collapsed": false
   },
   "outputs": [],
   "source": [
    "import mysql.connector as sql\n",
    "import pandas as pd\n",
    "import numpy as np"
   ]
  },
  {
   "cell_type": "code",
   "execution_count": 142,
   "metadata": {
    "collapsed": true
   },
   "outputs": [],
   "source": [
    "# from off campus it MAY/MAY NOT be faster to use a database mirror at 192.168.1.37\n",
    "#mysqlCnx= sql.connect(host='192.168.1.37', \n",
    "mysqlCnx= sql.connect(host='falcon.cs.wfu.edu', \n",
    "                port=3306,user='CSstudent', passwd='CSdeacon', \n",
    "                db='mxm')"
   ]
  },
  {
   "cell_type": "code",
   "execution_count": 3,
   "metadata": {
    "collapsed": false
   },
   "outputs": [],
   "source": [
    "# for the full data set use 237662\n",
    "numLyrics = 237662\n",
    "# for testing only\n",
    "#numLyrics  = 5\n",
    "numHashes = 101\n",
    "#print('loaded tid names from database:', numLyrics)"
   ]
  },
  {
   "cell_type": "code",
   "execution_count": 4,
   "metadata": {
    "collapsed": false
   },
   "outputs": [
    {
     "data": {
      "text/plain": [
       "(101, 237662)"
      ]
     },
     "execution_count": 4,
     "metadata": {},
     "output_type": "execute_result"
    }
   ],
   "source": [
    "# create and initialize Signature matrix for minhashing\n",
    "M = np.empty([numHashes, numLyrics], dtype=int)\n",
    "M.fill( 2147483647, )   # fill with \"infinity\"\n",
    "M.shape"
   ]
  },
  {
   "cell_type": "code",
   "execution_count": 5,
   "metadata": {
    "collapsed": false
   },
   "outputs": [],
   "source": [
    "def hash( a, b, row ):\n",
    "    return (a * row + b) % numLyrics\n",
    "\n",
    "# generate coefficients for numHashes hash functions\n",
    "hashCoefficients = np.random.randint(1001, high=2147483647, size=(numHashes,2))"
   ]
  },
  {
   "cell_type": "code",
   "execution_count": 6,
   "metadata": {
    "collapsed": true
   },
   "outputs": [],
   "source": [
    "def updateSigMatrix( wordID, colNum):\n",
    "    global M\n",
    "    for hashKey in range(numHashes):\n",
    "        hashval = hash( hashCoefficients[hashKey][0], hashCoefficients[hashKey][1], wordID )\n",
    "        if hashval < M[hashKey][colNum]:\n",
    "            M[hashKey][colNum] = hashval\n",
    "    return      "
   ]
  },
  {
   "cell_type": "code",
   "execution_count": 9,
   "metadata": {
    "collapsed": false,
    "scrolled": true
   },
   "outputs": [
    {
     "name": "stdout",
     "output_type": "stream",
     "text": [
      "At lyricID:  0\n",
      "At lyricID:  1000\n",
      "At lyricID:  2000\n",
      "At lyricID:  3000\n",
      "At lyricID:  4000\n",
      "At lyricID:  5000\n",
      "At lyricID:  6000\n",
      "At lyricID:  7000\n",
      "At lyricID:  8000\n",
      "At lyricID:  9000\n",
      "At lyricID:  10000\n",
      "At lyricID:  11000\n",
      "At lyricID:  12000\n",
      "At lyricID:  13000\n",
      "At lyricID:  14000\n",
      "At lyricID:  15000\n",
      "At lyricID:  16000\n",
      "At lyricID:  17000\n",
      "At lyricID:  18000\n",
      "At lyricID:  19000\n",
      "At lyricID:  20000\n",
      "At lyricID:  21000\n",
      "At lyricID:  22000\n",
      "At lyricID:  23000\n",
      "At lyricID:  24000\n",
      "At lyricID:  25000\n",
      "At lyricID:  26000\n",
      "At lyricID:  27000\n",
      "At lyricID:  28000\n",
      "At lyricID:  29000\n",
      "At lyricID:  30000\n",
      "At lyricID:  31000\n",
      "At lyricID:  32000\n",
      "At lyricID:  33000\n",
      "At lyricID:  34000\n",
      "At lyricID:  35000\n",
      "At lyricID:  36000\n",
      "At lyricID:  37000\n",
      "At lyricID:  38000\n",
      "At lyricID:  39000\n",
      "At lyricID:  40000\n",
      "At lyricID:  41000\n",
      "At lyricID:  42000\n",
      "At lyricID:  43000\n",
      "At lyricID:  44000\n",
      "At lyricID:  45000\n",
      "At lyricID:  46000\n",
      "At lyricID:  47000\n",
      "At lyricID:  48000\n",
      "At lyricID:  49000\n",
      "At lyricID:  50000\n",
      "At lyricID:  51000\n",
      "At lyricID:  52000\n",
      "At lyricID:  53000\n",
      "At lyricID:  54000\n",
      "At lyricID:  55000\n",
      "At lyricID:  56000\n",
      "At lyricID:  57000\n",
      "At lyricID:  58000\n",
      "At lyricID:  59000\n",
      "At lyricID:  60000\n",
      "At lyricID:  61000\n",
      "At lyricID:  62000\n",
      "At lyricID:  63000\n",
      "At lyricID:  64000\n",
      "At lyricID:  65000\n",
      "At lyricID:  66000\n",
      "At lyricID:  67000\n",
      "At lyricID:  68000\n",
      "At lyricID:  69000\n",
      "At lyricID:  70000\n",
      "At lyricID:  71000\n",
      "At lyricID:  72000\n",
      "At lyricID:  73000\n",
      "At lyricID:  74000\n",
      "At lyricID:  75000\n",
      "At lyricID:  76000\n",
      "At lyricID:  77000\n",
      "At lyricID:  78000\n",
      "At lyricID:  79000\n",
      "At lyricID:  80000\n",
      "At lyricID:  81000\n",
      "At lyricID:  82000\n",
      "At lyricID:  83000\n",
      "At lyricID:  84000\n",
      "At lyricID:  85000\n",
      "At lyricID:  86000\n",
      "At lyricID:  87000\n",
      "At lyricID:  88000\n",
      "At lyricID:  89000\n",
      "At lyricID:  90000\n",
      "At lyricID:  91000\n",
      "At lyricID:  92000\n",
      "At lyricID:  93000\n",
      "At lyricID:  94000\n",
      "At lyricID:  95000\n",
      "At lyricID:  96000\n",
      "At lyricID:  97000\n",
      "At lyricID:  98000\n",
      "At lyricID:  99000\n",
      "At lyricID:  100000\n",
      "At lyricID:  101000\n",
      "At lyricID:  102000\n",
      "At lyricID:  103000\n",
      "At lyricID:  104000\n",
      "At lyricID:  105000\n",
      "At lyricID:  106000\n",
      "At lyricID:  107000\n",
      "At lyricID:  108000\n",
      "At lyricID:  109000\n",
      "At lyricID:  110000\n",
      "At lyricID:  111000\n",
      "At lyricID:  112000\n",
      "At lyricID:  113000\n",
      "At lyricID:  114000\n",
      "At lyricID:  115000\n",
      "At lyricID:  116000\n",
      "At lyricID:  117000\n",
      "At lyricID:  118000\n",
      "At lyricID:  119000\n",
      "At lyricID:  120000\n",
      "At lyricID:  121000\n",
      "At lyricID:  122000\n",
      "At lyricID:  123000\n",
      "At lyricID:  124000\n",
      "At lyricID:  125000\n",
      "At lyricID:  126000\n",
      "At lyricID:  127000\n",
      "At lyricID:  128000\n",
      "At lyricID:  129000\n",
      "At lyricID:  130000\n",
      "At lyricID:  131000\n",
      "At lyricID:  132000\n",
      "At lyricID:  133000\n",
      "At lyricID:  134000\n",
      "At lyricID:  135000\n",
      "At lyricID:  136000\n",
      "At lyricID:  137000\n",
      "At lyricID:  138000\n",
      "At lyricID:  139000\n",
      "At lyricID:  140000\n",
      "At lyricID:  141000\n",
      "At lyricID:  142000\n",
      "At lyricID:  143000\n",
      "At lyricID:  144000\n",
      "At lyricID:  145000\n",
      "At lyricID:  146000\n",
      "At lyricID:  147000\n",
      "At lyricID:  148000\n",
      "At lyricID:  149000\n",
      "At lyricID:  150000\n",
      "At lyricID:  151000\n",
      "At lyricID:  152000\n",
      "At lyricID:  153000\n",
      "At lyricID:  154000\n",
      "At lyricID:  155000\n",
      "At lyricID:  156000\n",
      "At lyricID:  157000\n",
      "At lyricID:  158000\n",
      "At lyricID:  159000\n",
      "At lyricID:  160000\n",
      "At lyricID:  161000\n",
      "At lyricID:  162000\n",
      "At lyricID:  163000\n",
      "At lyricID:  164000\n",
      "At lyricID:  165000\n",
      "At lyricID:  166000\n",
      "At lyricID:  167000\n",
      "At lyricID:  168000\n",
      "At lyricID:  169000\n",
      "At lyricID:  170000\n",
      "At lyricID:  171000\n",
      "At lyricID:  172000\n",
      "At lyricID:  173000\n",
      "At lyricID:  174000\n",
      "At lyricID:  175000\n",
      "At lyricID:  176000\n",
      "At lyricID:  177000\n",
      "At lyricID:  178000\n",
      "At lyricID:  179000\n",
      "At lyricID:  180000\n",
      "At lyricID:  181000\n",
      "At lyricID:  182000\n",
      "At lyricID:  183000\n",
      "At lyricID:  184000\n",
      "At lyricID:  185000\n",
      "At lyricID:  186000\n",
      "At lyricID:  187000\n",
      "At lyricID:  188000\n",
      "At lyricID:  189000\n",
      "At lyricID:  190000\n",
      "At lyricID:  191000\n",
      "At lyricID:  192000\n",
      "At lyricID:  193000\n",
      "At lyricID:  194000\n",
      "At lyricID:  195000\n",
      "At lyricID:  196000\n",
      "At lyricID:  197000\n",
      "At lyricID:  198000\n",
      "At lyricID:  199000\n",
      "At lyricID:  200000\n",
      "At lyricID:  201000\n",
      "At lyricID:  202000\n",
      "At lyricID:  203000\n",
      "At lyricID:  204000\n",
      "At lyricID:  205000\n",
      "At lyricID:  206000\n",
      "At lyricID:  207000\n",
      "At lyricID:  208000\n",
      "At lyricID:  209000\n",
      "At lyricID:  210000\n",
      "At lyricID:  211000\n",
      "At lyricID:  212000\n",
      "At lyricID:  213000\n",
      "At lyricID:  214000\n",
      "At lyricID:  215000\n",
      "At lyricID:  216000\n",
      "At lyricID:  217000\n",
      "At lyricID:  218000\n",
      "At lyricID:  219000\n",
      "At lyricID:  220000\n",
      "At lyricID:  221000\n",
      "At lyricID:  222000\n",
      "At lyricID:  223000\n",
      "At lyricID:  224000\n",
      "At lyricID:  225000\n",
      "At lyricID:  226000\n",
      "At lyricID:  227000\n",
      "At lyricID:  228000\n",
      "At lyricID:  229000\n",
      "At lyricID:  230000\n",
      "At lyricID:  231000\n",
      "At lyricID:  232000\n",
      "At lyricID:  233000\n",
      "At lyricID:  234000\n",
      "At lyricID:  235000\n",
      "At lyricID:  236000\n",
      "At lyricID:  237000\n"
     ]
    }
   ],
   "source": [
    "# This cell contains the final step for filling in the signature matrix\n",
    "# for all the lyrics -- \n",
    "# For testing - skip this cell and run the next cell\n",
    "for lyricID in range(numLyrics):\n",
    "\n",
    "    if lyricID % 1000 == 0:\n",
    "        print( \"At lyricID: \", lyricID )\n",
    "        \n",
    "    query = \"select wordID from lyricBags where lyricID = '%s'\"%(lyricID,)\n",
    "    wordInfoDF = pd.read_sql(query, con=mysqlCnx)\n",
    "    \n",
    "    for (_,wordID) in wordInfoDF.itertuples():\n",
    "        updateSigMatrix( wordID, lyricID )"
   ]
  },
  {
   "cell_type": "code",
   "execution_count": 7,
   "metadata": {
    "collapsed": false
   },
   "outputs": [
    {
     "name": "stdout",
     "output_type": "stream",
     "text": [
      "0 Emmerson Nogueira \t Hotel California\n",
      "1 Wilson Phillips \t Hotel California (Live In Japan) (Digitally Remastered 00)\n",
      "2 Anita Ellis \t My Funny Valentine\n",
      "3 Chaka Khan \t My Funny Valentine\n",
      "4 Rachelle Ferrell \t My Funny Valentine\n",
      "5 Long Beach Shortbus \t Odd Walking Man\n",
      "6 Chet Baker \t My Funny Valentine\n",
      "\n",
      "4426\t4426\t5248\t5248\t5248\t5306\t5248\t\n",
      "32\t32\t11540\t6824\t4748\t6142\t18866\t\n",
      "1224\t1224\t620\t6996\t620\t1224\t6996\t\n",
      "1593\t1593\t1426\t16892\t7030\t1173\t16892\t\n",
      "678\t678\t4568\t4568\t4568\t1268\t4568\t\n",
      "12\t12\t6958\t6958\t6958\t5178\t6958\t\n",
      "1297\t1297\t931\t1013\t1013\t6055\t1013\t\n",
      "2171\t2171\t4282\t4282\t4282\t3490\t4282\t\n",
      "416\t416\t468\t468\t468\t1756\t468\t\n",
      "5085\t5085\t5085\t5085\t5085\t2277\t5085\t\n",
      "1971\t1971\t6270\t6270\t2578\t8456\t6270\t\n",
      "425\t425\t12897\t12897\t12897\t2695\t12897\t\n",
      "2574\t2574\t10672\t10672\t10672\t14422\t10672\t\n",
      "175\t175\t11754\t11754\t11754\t12733\t911\t\n",
      "629\t629\t5173\t5173\t5173\t629\t5173\t\n",
      "370\t370\t808\t808\t808\t396\t808\t\n",
      "1404\t1404\t3356\t3356\t3356\t2846\t3356\t\n",
      "645\t645\t12209\t12209\t12209\t1696\t12209\t\n",
      "64\t64\t9790\t9790\t9790\t64\t9790\t\n",
      "408\t408\t2590\t2488\t2590\t3059\t2590\t\n"
     ]
    }
   ],
   "source": [
    "# NOTE: Only execute this cell for testing purposes.\n",
    "#       This only fills in the signature matrix for 7 lyrics.\n",
    "\n",
    "# This is a test of the process on these 7 selected lyrics by lyricID\n",
    "testLyrics = [ 58584, 86470, 112317, 146341, 166049, 199097, 233196 ]\n",
    "\n",
    "# fill in the signature matrix for these selected lyricIDs\n",
    "# This will result in just a few columns of the minhash matrix being computed\n",
    "for lyricID in testLyrics:\n",
    "    query = \"select wordID from lyricBags where lyricID = '%s'\"%(lyricID,)\n",
    "    wordInfoDF = pd.read_sql(query, con=mysqlCnx)\n",
    "    \n",
    "    for (_,wordID) in wordInfoDF.itertuples():\n",
    "        updateSigMatrix( wordID, lyricID )\n",
    "\n",
    "# show the titles of the specific lyrics selected\n",
    "query = \"select artist, title from lyrics natural join details\" + \\\n",
    "         \" where lyricID in ( '%s', '%s', '%s', '%s', '%s', '%s', '%s' )\" % tuple(testLyrics)\n",
    "results = pd.read_sql(query, con=mysqlCnx)\n",
    "\n",
    "for row in results.itertuples():\n",
    "    print( row[0], row[1].decode('utf-8'), \"\\t\", row[2].decode('utf-8') )\n",
    "print()\n",
    "\n",
    "# print first 20 rows of Signature matrix for these 7 test lyrics\n",
    "for i in range(20):\n",
    "    for lyricNum in range(len(testLyrics)):\n",
    "       print( M[i,testLyrics[lyricNum]], end=\"\\t\" )\n",
    "    print()"
   ]
  },
  {
   "cell_type": "code",
   "execution_count": 13,
   "metadata": {
    "collapsed": false
   },
   "outputs": [
    {
     "name": "stdout",
     "output_type": "stream",
     "text": [
      "0 Emmerson Nogueira \t Hotel California\n",
      "1 Wilson Phillips \t Hotel California (Live In Japan) (Digitally Remastered 00)\n",
      "2 Anita Ellis \t My Funny Valentine\n",
      "3 Chaka Khan \t My Funny Valentine\n",
      "4 Rachelle Ferrell \t My Funny Valentine\n",
      "5 Long Beach Shortbus \t Odd Walking Man\n",
      "6 Chet Baker \t My Funny Valentine\n",
      "\n",
      "4426\t4426\t5248\t5248\t5248\t5306\t5248\t\n",
      "32\t32\t11540\t6824\t4748\t6142\t18866\t\n",
      "1224\t1224\t620\t6996\t620\t1224\t6996\t\n",
      "1593\t1593\t1426\t16892\t7030\t1173\t16892\t\n",
      "678\t678\t4568\t4568\t4568\t1268\t4568\t\n",
      "12\t12\t6958\t6958\t6958\t5178\t6958\t\n",
      "1297\t1297\t931\t1013\t1013\t6055\t1013\t\n",
      "2171\t2171\t4282\t4282\t4282\t3490\t4282\t\n",
      "416\t416\t468\t468\t468\t1756\t468\t\n",
      "5085\t5085\t5085\t5085\t5085\t2277\t5085\t\n",
      "1971\t1971\t6270\t6270\t2578\t8456\t6270\t\n",
      "425\t425\t12897\t12897\t12897\t2695\t12897\t\n",
      "2574\t2574\t10672\t10672\t10672\t14422\t10672\t\n",
      "175\t175\t11754\t11754\t11754\t12733\t911\t\n",
      "629\t629\t5173\t5173\t5173\t629\t5173\t\n",
      "370\t370\t808\t808\t808\t396\t808\t\n",
      "1404\t1404\t3356\t3356\t3356\t2846\t3356\t\n",
      "645\t645\t12209\t12209\t12209\t1696\t12209\t\n",
      "64\t64\t9790\t9790\t9790\t64\t9790\t\n",
      "408\t408\t2590\t2488\t2590\t3059\t2590\t\n"
     ]
    }
   ],
   "source": [
    "# can run this for testing whether the entire table is filled or not\n",
    "testLyrics = [ 58584, 86470, 112317, 146341, 166049, 199097, 233196 ]\n",
    "\n",
    "# show the titles of the specific lyrics selected\n",
    "query = \"select artist, title from lyrics natural join details\" + \\\n",
    "         \" where lyricID in ( '%s', '%s', '%s', '%s', '%s', '%s', '%s' )\" % tuple(testLyrics)\n",
    "results = pd.read_sql(query, con=mysqlCnx)\n",
    "\n",
    "for row in results.itertuples():\n",
    "    print( row[0], row[1].decode('utf-8'), \"\\t\", row[2].decode('utf-8') )\n",
    "print()\n",
    "\n",
    "# print first 20 rows of Signature matrix for these 7 test lyrics\n",
    "for i in range(20):\n",
    "    for lyricNum in range(len(testLyrics)):\n",
    "       print( M[i,testLyrics[lyricNum]], end=\"\\t\" )\n",
    "    print()"
   ]
  },
  {
   "cell_type": "code",
   "execution_count": 121,
   "metadata": {
    "collapsed": false
   },
   "outputs": [],
   "source": [
    "# save M to a file\n",
    "#np.save( \"M.npy\", M, allow_pickle=True )\n",
    "\n",
    "M = np.load( \"M.npy\" )\n",
    "matrix1 = M[:25]\n",
    "matrix2 = M[25:50]\n",
    "matrix3 = M[50:75]\n",
    "matrix4 = M[75:]\n",
    "pair_matrix = []\n",
    "\n",
    "def create_pairs(input_matrix):\n",
    "    newhashCoefficients = np.random.randint(1001, high=2147483647, size=(input_matrix.shape[0]))\n",
    "    random_constant = np.random.randint(1001, high=2147483647)\n",
    "    dicthash = {}\n",
    "    for i in range(input_matrix.shape[1]):\n",
    "        w = (np.dot(newhashCoefficients,input_matrix[:,i])+random_constant)%1000000000\n",
    "        if w in dicthash:\n",
    "            dicthash[w].append(i)\n",
    "        else:\n",
    "            dicthash[w]=[i]\n",
    "\n",
    "    hash_matches = [v for (k,v) in dicthash.items() if len(v) > 1]\n",
    "    for i in hash_matches:\n",
    "        for j in range(len(i)-1):\n",
    "            for k in range(j+1,len(i)):\n",
    "                if [i[j],i[k]] not in pair_matrix:\n",
    "                    pair_matrix.append([i[j],i[k]]) \n",
    "\n"
   ]
  },
  {
   "cell_type": "code",
   "execution_count": 122,
   "metadata": {
    "collapsed": false
   },
   "outputs": [],
   "source": [
    "create_pairs(matrix1)\n",
    "create_pairs(matrix2)"
   ]
  },
  {
   "cell_type": "code",
   "execution_count": 123,
   "metadata": {
    "collapsed": false
   },
   "outputs": [],
   "source": [
    "create_pairs(matrix3)\n",
    "create_pairs(matrix4)\n",
    "pair_matrix = sorted(pair_matrix)"
   ]
  },
  {
   "cell_type": "code",
   "execution_count": 143,
   "metadata": {
    "collapsed": false,
    "scrolled": true
   },
   "outputs": [],
   "source": [
    "outfile = open(\"mydata.out\", \"w\")\n",
    "for lyricID in pair_matrix:\n",
    "        \n",
    "    query1 = \"select count(*) from lyricBags as S join lyricBags as T using (wordID) where S.lyricID = '%s' and T.lyricID = '%s'\"%(lyricID[0],lyricID[1])\n",
    "    query2 = \"select count(*) from lyricBags where lyricID = '%s'\"%(lyricID[0])\n",
    "    query3 = \"select count(*) from lyricBags where lyricID = '%s'\"%(lyricID[1])\n",
    "    query4 = \"select distinct details.title from lyricBags natural join lyrics natural join details where lyricID = '%s'\"%(lyricID[0])\n",
    "    query5 = \"select distinct details.title from lyricBags natural join lyrics natural join details where lyricID = '%s'\"%(lyricID[1])\n",
    "    intersection = pd.read_sql(query1, con=mysqlCnx)\n",
    "    total1 = pd.read_sql(query2, con=mysqlCnx)\n",
    "    total2 = pd.read_sql(query3, con=mysqlCnx)\n",
    "    title1 = pd.read_sql(query4, con=mysqlCnx)\n",
    "    title2 = pd.read_sql(query5, con=mysqlCnx)\n",
    "\n",
    "    similarity = intersection/(total1+total2-intersection)\n",
    "    similarity = float(similarity.values)\n",
    "    if similarity >= 0.95:\n",
    "        print(title1['title'][0].decode('utf-8'),'\\t',title2['title'][0].decode('utf-8'),'\\t',similarity, file=outfile)\n",
    "outfile.close()"
   ]
  },
  {
   "cell_type": "code",
   "execution_count": null,
   "metadata": {
    "collapsed": false,
    "scrolled": false
   },
   "outputs": [],
   "source": []
  },
  {
   "cell_type": "code",
   "execution_count": null,
   "metadata": {
    "collapsed": false
   },
   "outputs": [],
   "source": []
  },
  {
   "cell_type": "code",
   "execution_count": null,
   "metadata": {
    "collapsed": false
   },
   "outputs": [],
   "source": []
  },
  {
   "cell_type": "code",
   "execution_count": null,
   "metadata": {
    "collapsed": true
   },
   "outputs": [],
   "source": []
  }
 ],
 "metadata": {
  "anaconda-cloud": {},
  "kernelspec": {
   "display_name": "Python [conda env:csc322622]",
   "language": "python",
   "name": "conda-env-csc322622-py"
  },
  "language_info": {
   "codemirror_mode": {
    "name": "ipython",
    "version": 3
   },
   "file_extension": ".py",
   "mimetype": "text/x-python",
   "name": "python",
   "nbconvert_exporter": "python",
   "pygments_lexer": "ipython3",
   "version": "3.5.2"
  }
 },
 "nbformat": 4,
 "nbformat_minor": 2
}
