{
 "cells": [
  {
   "cell_type": "code",
   "execution_count": null,
   "metadata": {
    "collapsed": false
   },
   "outputs": [],
   "source": [
    "import pandas as pd\n",
    "import numpy as np\n",
    "import matplotlib.pyplot as plt\n",
    "\n",
    "tourney_results = pd.read_csv(\"TourneyCompactResults.csv\", header=0, \\\n",
    "                    quoting=3)\n",
    "season_results = pd.read_csv(\"RegularSeasonCompactResults.csv\", header=0, \\\n",
    "                    quoting=3)\n",
    "seeds = pd.read_csv(\"TourneySeeds.csv\", header=0, \\\n",
    "                    quoting=3)\n",
    "pd.options.mode.chained_assignment = None  #Stop annoying warnings"
   ]
  },
  {
   "cell_type": "code",
   "execution_count": null,
   "metadata": {
    "collapsed": false
   },
   "outputs": [],
   "source": [
    "year=2003\n",
    "df_season=season_results[season_results['Season']==year]\n",
    "df_tourney=tourney_results[tourney_results['Season']==year]\n",
    "df_seeds=seeds[seeds['Season']==year]"
   ]
  },
  {
   "cell_type": "code",
   "execution_count": null,
   "metadata": {
    "collapsed": false
   },
   "outputs": [],
   "source": [
    "def seed_to_int(seed):\n",
    "    \"\"\"Get just the digits from the seeding. Return as int\"\"\"\n",
    "    s_int = int(seed[1:3])\n",
    "    return s_int\n",
    "df_seeds['n_seed'] = df_seeds.Seed.apply(seed_to_int)\n",
    "df_seeds.drop(labels=['Seed'], inplace=True, axis=1) # This is the string label"
   ]
  },
  {
   "cell_type": "code",
   "execution_count": null,
   "metadata": {
    "collapsed": true
   },
   "outputs": [],
   "source": [
    "win_lose=df_season[['Wteam','Lteam']]\n",
    "test=pd.DataFrame()\n",
    "test['LeftTeam']=win_lose['Wteam']\n",
    "test['RightTeam']=win_lose['Wteam']\n",
    "test['WinValue']=0"
   ]
  },
  {
   "cell_type": "code",
   "execution_count": null,
   "metadata": {
    "collapsed": false
   },
   "outputs": [],
   "source": [
    "for index,row in win_lose.iterrows():\n",
    "    i=0\n",
    "    if row['Wteam']>row['Lteam']:\n",
    "        i=1\n",
    "    if i==1:\n",
    "        test['LeftTeam'][index]=row['Wteam']\n",
    "        test['RightTeam'][index]=row['Lteam']\n",
    "        test['WinValue'][index]=i\n",
    "    else:\n",
    "        test['LeftTeam'][index]=row['Lteam']\n",
    "        test['RightTeam'][index]=row['Wteam']"
   ]
  },
  {
   "cell_type": "code",
   "execution_count": null,
   "metadata": {
    "collapsed": false
   },
   "outputs": [],
   "source": [
    "season_compiled=test.merge(df_seeds,left_on='LeftTeam',right_on='Team').merge(df_seeds,left_on='RightTeam',right_on='Team')\n",
    "season_compiled['seed_diff']=season_compiled['n_seed_x']-season_compiled['n_seed_y']\n",
    "season_compiled=season_compiled[['seed_diff','WinValue']]"
   ]
  },
  {
   "cell_type": "code",
   "execution_count": null,
   "metadata": {
    "collapsed": false
   },
   "outputs": [],
   "source": [
    "win_lose=df_tourney[['Wteam','Lteam']]\n",
    "test=pd.DataFrame()\n",
    "test['LeftTeam']=win_lose['Wteam']\n",
    "test['RightTeam']=win_lose['Wteam']\n",
    "test['WinValue']=0"
   ]
  },
  {
   "cell_type": "code",
   "execution_count": null,
   "metadata": {
    "collapsed": false
   },
   "outputs": [],
   "source": [
    "for index,row in win_lose.iterrows():\n",
    "    i=0\n",
    "    if row['Wteam']>row['Lteam']:\n",
    "        i=1\n",
    "    if i==1:\n",
    "        test['LeftTeam'][index]=row['Wteam']\n",
    "        test['RightTeam'][index]=row['Lteam']\n",
    "        test['WinValue'][index]=i\n",
    "    else:\n",
    "        test['LeftTeam'][index]=row['Lteam']\n",
    "        test['RightTeam'][index]=row['Wteam']"
   ]
  },
  {
   "cell_type": "code",
   "execution_count": null,
   "metadata": {
    "collapsed": true
   },
   "outputs": [],
   "source": [
    "tourney_compiled=test.merge(df_seeds,left_on='LeftTeam',right_on='Team').merge(df_seeds,left_on='RightTeam',right_on='Team')\n",
    "tourney_compiled['seed_diff']=tourney_compiled['n_seed_x']-tourney_compiled['n_seed_y']\n",
    "tourney_compiled=tourney_compiled[['seed_diff','WinValue']]"
   ]
  },
  {
   "cell_type": "code",
   "execution_count": null,
   "metadata": {
    "collapsed": true
   },
   "outputs": [],
   "source": []
  },
  {
   "cell_type": "code",
   "execution_count": null,
   "metadata": {
    "collapsed": true
   },
   "outputs": [],
   "source": []
  },
  {
   "cell_type": "code",
   "execution_count": null,
   "metadata": {
    "collapsed": false
   },
   "outputs": [],
   "source": []
  },
  {
   "cell_type": "code",
   "execution_count": null,
   "metadata": {
    "collapsed": false
   },
   "outputs": [],
   "source": []
  },
  {
   "cell_type": "code",
   "execution_count": null,
   "metadata": {
    "collapsed": false
   },
   "outputs": [],
   "source": [
    "df_train=season_compiled.iloc[:,0].values.reshape(-1,1)\n",
    "w_train=season_compiled.iloc[:,1]\n",
    "df_test=tourney_compiled.iloc[:,0].values.reshape(-1,1)\n",
    "w_test=tourney_compiled.iloc[:,1]"
   ]
  },
  {
   "cell_type": "code",
   "execution_count": null,
   "metadata": {
    "collapsed": false
   },
   "outputs": [],
   "source": [
    "from sklearn.ensemble import RandomForestClassifier\n",
    "\n",
    "# Initialize a Random Forest classifier with 100 trees\n",
    "forest = RandomForestClassifier(n_estimators = 10) \n",
    "\n",
    "# Fit the forest to the training set, using the bag of words as \n",
    "# features and the sentiment labels as the response variable\n",
    "#\n",
    "# This may take a few minutes to run\n",
    "forest = forest.fit( df_train, w_train)"
   ]
  },
  {
   "cell_type": "code",
   "execution_count": null,
   "metadata": {
    "collapsed": false
   },
   "outputs": [],
   "source": [
    "result = forest.predict(df_test)"
   ]
  },
  {
   "cell_type": "code",
   "execution_count": null,
   "metadata": {
    "collapsed": false
   },
   "outputs": [],
   "source": [
    "sum(result==w_test)/result.size"
   ]
  },
  {
   "cell_type": "code",
   "execution_count": null,
   "metadata": {
    "collapsed": true
   },
   "outputs": [],
   "source": [
    "forest.predict_proba(df_test)"
   ]
  },
  {
   "cell_type": "code",
   "execution_count": null,
   "metadata": {
    "collapsed": false
   },
   "outputs": [],
   "source": []
  },
  {
   "cell_type": "code",
   "execution_count": null,
   "metadata": {
    "collapsed": false
   },
   "outputs": [],
   "source": [
    "from sklearn.svm import SVC\n",
    "clf=SVC(probability=True)\n",
    "clf.fit(df_train,w_train)"
   ]
  },
  {
   "cell_type": "code",
   "execution_count": null,
   "metadata": {
    "collapsed": true
   },
   "outputs": [],
   "source": [
    "result = clf.predict(df_test)"
   ]
  },
  {
   "cell_type": "code",
   "execution_count": null,
   "metadata": {
    "collapsed": false
   },
   "outputs": [],
   "source": [
    "sum(result==w_test)/result.size"
   ]
  },
  {
   "cell_type": "code",
   "execution_count": null,
   "metadata": {
    "collapsed": false
   },
   "outputs": [],
   "source": []
  },
  {
   "cell_type": "code",
   "execution_count": null,
   "metadata": {
    "collapsed": true
   },
   "outputs": [],
   "source": []
  }
 ],
 "metadata": {
  "anaconda-cloud": {},
  "kernelspec": {
   "display_name": "Python [conda env:csc322622]",
   "language": "python",
   "name": "conda-env-csc322622-py"
  },
  "language_info": {
   "codemirror_mode": {
    "name": "ipython",
    "version": 3
   },
   "file_extension": ".py",
   "mimetype": "text/x-python",
   "name": "python",
   "nbconvert_exporter": "python",
   "pygments_lexer": "ipython3",
   "version": "3.5.2"
  }
 },
 "nbformat": 4,
 "nbformat_minor": 2
}
